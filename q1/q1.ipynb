{
 "cells": [
  {
   "cell_type": "code",
   "execution_count": 3,
   "id": "8bd1b9e9",
   "metadata": {},
   "outputs": [
    {
     "name": "stdout",
     "output_type": "stream",
     "text": [
      "Eigenvalues : [-0.37228132  5.37228132]\n",
      "\n",
      "Eigenvectors :\n",
      " [[-0.82456484 -0.41597356]\n",
      " [ 0.56576746 -0.90937671]]\n",
      "\n",
      "Determinant : -2.0000000000000004\n",
      "\n",
      "Cross Product : [[-3  6 -3]]\n",
      "\n",
      "Solution :\n",
      " [[-1.]\n",
      " [-4.]\n",
      " [ 3.]]\n"
     ]
    }
   ],
   "source": [
    "import numpy as np\n",
    "\n",
    "def main() :\n",
    "    arr = np.matrix([[1,2],[3,4]])\n",
    "    eigenvalues,eigenvectors = np.linalg.eig(arr)\n",
    "    determinant = np.linalg.det(arr)\n",
    "\n",
    "\n",
    "    vec1 = np.matrix([1,2,3])\n",
    "    vec2 = np.matrix([4,5,6])\n",
    "    cross = np.cross(vec1,vec2)\n",
    "\n",
    "    A = np.matrix([[1,2,-2],[2,1,-5],[1,-4,1]])\n",
    "    invA = np.linalg.inv(A)\n",
    "    b = np.matrix([[-15],[-21],[18]])\n",
    "\n",
    "\n",
    "    solution = invA.dot(b)\n",
    "\n",
    "    print(\"Eigenvalues :\",eigenvalues)\n",
    "    print(\"\\nEigenvectors :\\n\",eigenvectors)\n",
    "    print(\"\\nDeterminant :\", determinant)\n",
    "    print(\"\\nCross Product :\", cross)\n",
    "    print(\"\\nSolution :\\n\", solution)    \n",
    "\n",
    "\n",
    "\n",
    "if __name__ == '__main__':\n",
    "    main()  "
   ]
  },
  {
   "cell_type": "code",
   "execution_count": null,
   "id": "f94a77b6",
   "metadata": {},
   "outputs": [],
   "source": []
  }
 ],
 "metadata": {
  "kernelspec": {
   "display_name": "Python 3 (ipykernel)",
   "language": "python",
   "name": "python3"
  },
  "language_info": {
   "codemirror_mode": {
    "name": "ipython",
    "version": 3
   },
   "file_extension": ".py",
   "mimetype": "text/x-python",
   "name": "python",
   "nbconvert_exporter": "python",
   "pygments_lexer": "ipython3",
   "version": "3.9.13"
  }
 },
 "nbformat": 4,
 "nbformat_minor": 5
}
