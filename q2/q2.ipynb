{
 "cells": [
  {
   "cell_type": "code",
   "execution_count": 1,
   "id": "94c239c1",
   "metadata": {},
   "outputs": [
    {
     "name": "stdout",
     "output_type": "stream",
     "text": [
      "doc1 = 0.58\n",
      "\n",
      "doc2 = 0.87\n",
      "\n",
      "doc2 = 0.67\n"
     ]
    }
   ],
   "source": [
    "import numpy as np\n",
    "\n",
    "def main() :\n",
    "    doc1 = np.array([1,1,0,1,0,1])\n",
    "    doc2 = np.array([1,1,1,0,1,0])\n",
    "    doc3 = np.array([1,1,0,1,0,0])\n",
    "    \n",
    "    query = np.array([1,1,0,0,1,0])\n",
    "    \n",
    "    \n",
    "\n",
    "    print(\"doc1 = {0:.2f}\\n\".format(cos_sim(doc1,query)))\n",
    "    \n",
    "    print(\"doc2 = {0:.2f}\\n\".format(cos_sim(doc2,query)))\n",
    "    \n",
    "    print(\"doc2 = {0:.2f}\".format(cos_sim(doc3,query)))\n",
    "\n",
    "def cos_sim(doc, query) :\n",
    "    return np.dot(doc, query)/(np.linalg.norm(doc)*np.linalg.norm(query))\n",
    "\n",
    "\n",
    "\n",
    "if __name__ == '__main__':\n",
    "    main()  "
   ]
  },
  {
   "cell_type": "code",
   "execution_count": null,
   "id": "92ddc95a",
   "metadata": {},
   "outputs": [],
   "source": []
  }
 ],
 "metadata": {
  "kernelspec": {
   "display_name": "Python 3 (ipykernel)",
   "language": "python",
   "name": "python3"
  },
  "language_info": {
   "codemirror_mode": {
    "name": "ipython",
    "version": 3
   },
   "file_extension": ".py",
   "mimetype": "text/x-python",
   "name": "python",
   "nbconvert_exporter": "python",
   "pygments_lexer": "ipython3",
   "version": "3.9.13"
  }
 },
 "nbformat": 4,
 "nbformat_minor": 5
}
